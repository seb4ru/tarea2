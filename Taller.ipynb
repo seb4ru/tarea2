{
 "cells": [
  {
   "cell_type": "markdown",
   "id": "d77b5723",
   "metadata": {},
   "source": [
    "**Cree las siguientes funciones, con su debida documentación:**\n",
    "\n",
    "1. Cree una función que regrese como resultado el nombre de un restaurante y su NIT en una cadena de caracteres, pueden ser ficticios.\n",
    "2. Si en dicho restaurante cada persona consume en promedio 50.000, haga una función que permira calcular el valor de la cuenta, en promedio, dado el número de comensales.\n",
    "3. En el total calculado en el punto anterior se incluye el impuesto al consumo, cree una función que le permita conocer el valor que debería pagar sin dicho impuesto el cual asciende al $8\\%$.\n",
    "4. Una función que tenga como argumentos de entrada nombre de una persona y cantidad de comensales, la función debe tener como respuesta un \"recibo\" en el que aparezca el nombre del restaurante, su NIT, el nombre del cliente, el valor de la factura sin impuestos y con impuestos (sug: emplee como base las funciones creadas anteriormente).\n",
    "5. Una función que permita calcular el máximo entre dos números.\n",
    "6. Una función que ordene de menor a mayor tres números.\n",
    "7. Una función que dadas 5 notas de un estudiante, le permitan calcular la definitiva de la materia (nota 1: 10%, nota 2: 20%, nota 3: 30%, nota 4: 15%, nota 5: 25%) junto a un mensaje el cual resuma el desempeño del estudiante en el curso. (*Sug*: utilice los intervalos $0\\leq x<1,\\ 1\\leq x<2,\\ 2\\leq x<3,\\ 3\\leq x<4, 4\\leq x<4.5,\\ 4.5\\leq x\\leq5 $)"
   ]
  },
  {
   "cell_type": "markdown",
   "id": "67649752",
   "metadata": {},
   "source": [
    "## Primero\n",
    "Cree una función que regrese como resultado el nombre de un restaurante y su NIT en una cadena de caracteres, pueden ser ficticios."
   ]
  },
  {
   "cell_type": "code",
   "execution_count": 141,
   "id": "e8e73247",
   "metadata": {},
   "outputs": [],
   "source": [
    "\n",
    "def renit():\n",
    "    nombre_restaurante = input(\"Ingrese el nombre del restaurante: \")\n",
    "    nit = input(\"Ingrese el NIT del restaurante: \")\n",
    "    return(nombre_restaurante, nit, print(\"EL nombre del restaurante es {} y su NIT es {}\".format(nombre_restaurante,nit)))\n"
   ]
  },
  {
   "cell_type": "code",
   "execution_count": 149,
   "id": "dd72bdcd",
   "metadata": {},
   "outputs": [
    {
     "name": "stdout",
     "output_type": "stream",
     "text": [
      "Ingrese el nombre del restaurante: Luis\n",
      "Ingrese el NIT del restaurante: 345678\n",
      "EL nombre del restaurante es Luis y su NIT es 345678\n"
     ]
    }
   ],
   "source": [
    "nom_res_nit = renit()"
   ]
  },
  {
   "cell_type": "code",
   "execution_count": 154,
   "id": "d0ed8a0e",
   "metadata": {},
   "outputs": [
    {
     "data": {
      "text/plain": [
       "'345678'"
      ]
     },
     "execution_count": 154,
     "metadata": {},
     "output_type": "execute_result"
    }
   ],
   "source": [
    "nom_res_nit[1]"
   ]
  },
  {
   "cell_type": "markdown",
   "id": "1ec21092",
   "metadata": {},
   "source": []
  },
  {
   "cell_type": "markdown",
   "id": "33feffc6",
   "metadata": {},
   "source": [
    "## Segundo\n",
    "Si en dicho restaurante cada persona consume en promedio 50.000, haga una función que permira calcular el valor de la cuenta, en promedio, dado el número de comensales."
   ]
  },
  {
   "cell_type": "code",
   "execution_count": 127,
   "id": "c0ab6021",
   "metadata": {},
   "outputs": [],
   "source": [
    "\n",
    "def provacu (num_comensales):\n",
    "    valor_cuenta = num_comensales * 50000\n",
    "    return (valor_cuenta, print(\"\"\"Si el valor promedio por persona es 50 mil, y hay {} personas, entonces el \n",
    "    valor total es {:1,f}\"\"\".format(num_comensales, valor_cuenta)))\n"
   ]
  },
  {
   "cell_type": "code",
   "execution_count": 258,
   "id": "668972e5",
   "metadata": {},
   "outputs": [
    {
     "name": "stdout",
     "output_type": "stream",
     "text": [
      "\n",
      "¿Cuántos comensales son? 7\n",
      "Si el valor promedio por persona es 50 mil, y hay 7 personas, entonces el \n",
      "    valor total es 350,000.000000\n"
     ]
    }
   ],
   "source": [
    "valor_cuenta = provacu(int(input(\"\\n¿Cuántos comensales son? \")))"
   ]
  },
  {
   "cell_type": "code",
   "execution_count": 181,
   "id": "9abe8c6c",
   "metadata": {},
   "outputs": [
    {
     "data": {
      "text/plain": [
       "350000"
      ]
     },
     "execution_count": 181,
     "metadata": {},
     "output_type": "execute_result"
    }
   ],
   "source": [
    "valor_cuenta[0]\n"
   ]
  },
  {
   "cell_type": "markdown",
   "id": "357430f9",
   "metadata": {},
   "source": []
  },
  {
   "cell_type": "markdown",
   "id": "f84ab68e",
   "metadata": {},
   "source": [
    "## Tercero\n",
    "En el total calculado en el punto anterior se incluye el impuesto al consumo, cree una función que le permita conocer el valor que debería pagar sin dicho impuesto el cual asciende al 8%."
   ]
  },
  {
   "cell_type": "markdown",
   "id": "5ff73caf",
   "metadata": {},
   "source": [
    "|valor-solo-de-la-cuenta|con_iva|\n",
    "|:-:|:-:|\n",
    "|100%|108%|\n",
    "|descubrir||valor_cuenta ***variable***|"
   ]
  },
  {
   "cell_type": "code",
   "execution_count": 176,
   "id": "26549fcc",
   "metadata": {},
   "outputs": [],
   "source": [
    "\n",
    "def provacuIva (valor_cuenta):\n",
    "    valor_cuentasin = (100 / 108) * valor_cuenta\n",
    "    return (valor_cuentasin, print(\"El valor sin IVA es {:0,f}\".format(int(valor_cuentasin))))\n",
    "    "
   ]
  },
  {
   "cell_type": "code",
   "execution_count": 185,
   "id": "01d0189e",
   "metadata": {},
   "outputs": [
    {
     "data": {
      "text/plain": [
       "350000"
      ]
     },
     "execution_count": 185,
     "metadata": {},
     "output_type": "execute_result"
    }
   ],
   "source": []
  },
  {
   "cell_type": "code",
   "execution_count": 189,
   "id": "3020bed0",
   "metadata": {},
   "outputs": [
    {
     "name": "stdout",
     "output_type": "stream",
     "text": [
      "El valor sin IVA es 324,074.000000\n"
     ]
    }
   ],
   "source": [
    "cuenta_sin_iva = provacuIva(valor_cuenta[0])"
   ]
  },
  {
   "cell_type": "code",
   "execution_count": 190,
   "id": "4ee3685b",
   "metadata": {},
   "outputs": [
    {
     "data": {
      "text/plain": [
       "(324074.0740740741, None)"
      ]
     },
     "execution_count": 190,
     "metadata": {},
     "output_type": "execute_result"
    }
   ],
   "source": [
    "cuenta_sin_iva"
   ]
  },
  {
   "cell_type": "markdown",
   "id": "4aa9330a",
   "metadata": {},
   "source": []
  },
  {
   "cell_type": "markdown",
   "id": "8b9a2566",
   "metadata": {},
   "source": [
    "## Cuarto\n",
    "\n",
    "Una función que tenga como argumentos de entrada nombre de una persona y cantidad de comensales, la función debe tener como respuesta un \"recibo\" en el que aparezca el nombre del restaurante, su NIT, el nombre del cliente, el valor de la factura sin impuestos y con impuestos (sug: emplee como base las funciones creadas anteriormente).\n",
    "\n"
   ]
  },
  {
   "cell_type": "code",
   "execution_count": 203,
   "id": "89b61bb0",
   "metadata": {},
   "outputs": [],
   "source": [
    "\n",
    "def factura(nombre, comensales):\n",
    "    print(\"\"\"\\nRecibo Restaurante {} NIT {}\\nFactura a nombre de {}\\nValor de la factura con IVA {:3,f}\\nValor de la factura sin IVA {:3,f}\"\"\"\n",
    "          .format(nom_res_nit[0], nom_res_nit[1], nombre, valor_cuenta[0], int(cuenta_sin_iva[0])))"
   ]
  },
  {
   "cell_type": "code",
   "execution_count": 204,
   "id": "c99c947e",
   "metadata": {},
   "outputs": [
    {
     "name": "stdout",
     "output_type": "stream",
     "text": [
      "Nombre de la persona: Carlos\n",
      "Número de comensales: 4\n",
      "\n",
      "Recibo Restaurante Luis NIT 345678\n",
      "Factura a nombre de Carlos\n",
      "Valor de la factura con IVA 350,000.000000\n",
      "Valor de la factura sin IVA 324,074.000000\n"
     ]
    }
   ],
   "source": [
    "factura(input(\"Nombre de la persona: \"), int(input(\"Número de comensales: \")))"
   ]
  },
  {
   "cell_type": "markdown",
   "id": "692df799",
   "metadata": {},
   "source": []
  },
  {
   "cell_type": "markdown",
   "id": "54d1c6f9",
   "metadata": {},
   "source": [
    "## Quinto\n",
    "\n",
    "Una función que permita calcular el máximo entre dos números."
   ]
  },
  {
   "cell_type": "code",
   "execution_count": null,
   "id": "87f4247d",
   "metadata": {},
   "outputs": [],
   "source": [
    "coregir\n",
    "def max_enteros (x,y):\n",
    "    return print(\"El mayor número entre {} y {} es \".format(x,y), max(x,y))\n"
   ]
  },
  {
   "cell_type": "code",
   "execution_count": 214,
   "id": "49a8b00a",
   "metadata": {},
   "outputs": [
    {
     "name": "stdout",
     "output_type": "stream",
     "text": [
      "Ingrese algún número4\n",
      "Ingrese algún otro número5\n",
      "El mayor número entre 4 y 5 es  5\n"
     ]
    }
   ],
   "source": [
    "max_enteros(int(input(\"Ingrese algún número\")),int(input(\"Ingrese algún otro número\")))"
   ]
  },
  {
   "cell_type": "markdown",
   "id": "709644dd",
   "metadata": {},
   "source": []
  },
  {
   "cell_type": "markdown",
   "id": "a51d58f0",
   "metadata": {},
   "source": [
    "## Sexto \n",
    "Una función que ordene de menor a mayor tres números."
   ]
  },
  {
   "cell_type": "code",
   "execution_count": 2,
   "id": "c653972e",
   "metadata": {},
   "outputs": [
    {
     "name": "stdout",
     "output_type": "stream",
     "text": [
      "Ingrese algun número: 99\n",
      "Ingrese algun número: -1\n",
      "Ingrese algun número: 4\n"
     ]
    }
   ],
   "source": [
    "num_list = [int(input(\"Ingrese algun número: \")),int(input(\"Ingrese algun número: \")),\n",
    "            int(input(\"Ingrese algun número: \"))]"
   ]
  },
  {
   "cell_type": "code",
   "execution_count": 3,
   "id": "801479c6",
   "metadata": {},
   "outputs": [
    {
     "data": {
      "text/plain": [
       "[99, -1, 4]"
      ]
     },
     "execution_count": 3,
     "metadata": {},
     "output_type": "execute_result"
    }
   ],
   "source": [
    "num_list"
   ]
  },
  {
   "cell_type": "code",
   "execution_count": 257,
   "id": "d3ef5a94",
   "metadata": {},
   "outputs": [
    {
     "data": {
      "text/plain": [
       "9"
      ]
     },
     "execution_count": 257,
     "metadata": {},
     "output_type": "execute_result"
    }
   ],
   "source": [
    "def menorAmayor(num_list):\n",
    "    for i in num_list:\n",
    "        if (i)"
   ]
  },
  {
   "cell_type": "code",
   "execution_count": null,
   "id": "b1f34dae",
   "metadata": {},
   "outputs": [],
   "source": []
  },
  {
   "cell_type": "markdown",
   "id": "c8c464ba",
   "metadata": {},
   "source": [
    "## Septimo \n",
    "Una función que ordene de menor a mayor tres números."
   ]
  },
  {
   "cell_type": "markdown",
   "id": "e15f27b6",
   "metadata": {},
   "source": [
    "Una función que dadas 5 notas de un estudiante, le permitan calcular la definitiva de la materia (nota 1: 10%, nota 2: 20%, nota 3: 30%, nota 4: 15%, nota 5: 25%) junto a un mensaje el cual resuma el desempeño del estudiante en el curso. \n",
    "(Sug: utilice los intervalos 0≤𝑥<1, 1≤𝑥<2, 2≤𝑥<3, 3≤𝑥<4,4≤𝑥<4.5, 4.5≤𝑥≤5)"
   ]
  },
  {
   "cell_type": "code",
   "execution_count": 28,
   "id": "44b23aa2",
   "metadata": {},
   "outputs": [
    {
     "name": "stdout",
     "output_type": "stream",
     "text": [
      "Ingrese la nota número 4\n",
      "[4.0]\n",
      "Ingrese la nota número 3\n",
      "[4.0, 3.0]\n",
      "Ingrese la nota número 2\n",
      "[4.0, 3.0, 2.0]\n",
      "Ingrese la nota número 4\n",
      "[4.0, 3.0, 2.0, 4.0]\n",
      "Ingrese la nota número 3\n",
      "[4.0, 3.0, 2.0, 4.0, 3.0]\n"
     ]
    }
   ],
   "source": [
    "\n",
    "nota =[]\n",
    "\n",
    "for i in range (1,6):\n",
    "    nota.append(float(input(\"Ingrese la nota número \")))\n",
    "    print(nota)\n",
    "\n",
    "def definitiva(nota1,nota2,nota3,nota4,nota5):\n",
    "    nota = (nota1*.10)+(nota2*.20)+(nota3*.30)+(nota4*.15)+(nota5+.25)\n",
    "    return(nota)\n",
    "\n",
    "nota_final = definitiva(nota[0],nota[1],nota[2],nota[3],nota[4])\n",
    "\n",
    "nota_final\n"
   ]
  },
  {
   "cell_type": "code",
   "execution_count": null,
   "id": "f678103b",
   "metadata": {},
   "outputs": [],
   "source": []
  }
 ],
 "metadata": {
  "kernelspec": {
   "display_name": "Python 3 (ipykernel)",
   "language": "python",
   "name": "python3"
  },
  "language_info": {
   "codemirror_mode": {
    "name": "ipython",
    "version": 3
   },
   "file_extension": ".py",
   "mimetype": "text/x-python",
   "name": "python",
   "nbconvert_exporter": "python",
   "pygments_lexer": "ipython3",
   "version": "3.9.7"
  }
 },
 "nbformat": 4,
 "nbformat_minor": 5
}
